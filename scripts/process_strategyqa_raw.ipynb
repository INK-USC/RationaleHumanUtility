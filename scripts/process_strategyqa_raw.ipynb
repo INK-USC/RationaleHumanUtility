{
 "cells": [
  {
   "cell_type": "code",
   "execution_count": 1,
   "id": "4745e973",
   "metadata": {},
   "outputs": [],
   "source": [
    "from sklearn.model_selection import train_test_split\n",
    "import pandas as pd\n",
    "import os"
   ]
  },
  {
   "cell_type": "code",
   "execution_count": 2,
   "id": "d0024bb7",
   "metadata": {},
   "outputs": [],
   "source": [
    "PATH = \"../../data/strategyqa/raw/\""
   ]
  },
  {
   "cell_type": "code",
   "execution_count": 7,
   "id": "ea76000f",
   "metadata": {},
   "outputs": [],
   "source": [
    "df = pd.read_json(os.path.join(PATH+\"strategyqa_train.json\"))"
   ]
  },
  {
   "cell_type": "code",
   "execution_count": 8,
   "id": "d9906870",
   "metadata": {},
   "outputs": [
    {
     "data": {
      "text/plain": [
       "(2290, 8)"
      ]
     },
     "execution_count": 8,
     "metadata": {},
     "output_type": "execute_result"
    }
   ],
   "source": [
    "df.shape"
   ]
  },
  {
   "cell_type": "code",
   "execution_count": 9,
   "id": "cf29eb81",
   "metadata": {},
   "outputs": [],
   "source": [
    "df['rationale'] = df['facts'].str.join(\" \")"
   ]
  },
  {
   "cell_type": "code",
   "execution_count": 10,
   "id": "f62c23ff",
   "metadata": {},
   "outputs": [],
   "source": [
    "df_train, df_test = train_test_split(df, stratify=df['answer'], test_size=0.2, random_state=0)\n",
    "df_train, df_dev = train_test_split(df_train, stratify=df_train['answer'], test_size=0.1, random_state=0)\n",
    "df_train = df_train.reset_index(drop=True)\n",
    "df_dev = df_dev.reset_index(drop=True)\n",
    "df_test = df_test.reset_index(drop=True)"
   ]
  },
  {
   "cell_type": "code",
   "execution_count": 13,
   "id": "94a2e7b6",
   "metadata": {},
   "outputs": [
    {
     "data": {
      "text/plain": [
       "(458, 9)"
      ]
     },
     "execution_count": 13,
     "metadata": {},
     "output_type": "execute_result"
    }
   ],
   "source": [
    "df_test.shape"
   ]
  },
  {
   "cell_type": "code",
   "execution_count": 14,
   "id": "10897b48",
   "metadata": {},
   "outputs": [],
   "source": [
    "df_train.to_json(os.path.join(PATH+\"strategyqa_processed_train.json\"),orient='records')\n",
    "df_dev.to_json(os.path.join(PATH+\"strategyqa_processed_dev.json\"),orient='records')\n",
    "df_test.to_json(os.path.join(PATH+\"strategyqa_processed_test.json\"),orient='records')"
   ]
  },
  {
   "cell_type": "code",
   "execution_count": 51,
   "id": "1882bd88",
   "metadata": {},
   "outputs": [],
   "source": [
    "df_test = pd.read_json(os.path.join(PATH+\"strategyqa_test.json\"))"
   ]
  },
  {
   "cell_type": "code",
   "execution_count": 53,
   "id": "5c4e9e7f",
   "metadata": {},
   "outputs": [
    {
     "data": {
      "text/html": [
       "<div>\n",
       "<style scoped>\n",
       "    .dataframe tbody tr th:only-of-type {\n",
       "        vertical-align: middle;\n",
       "    }\n",
       "\n",
       "    .dataframe tbody tr th {\n",
       "        vertical-align: top;\n",
       "    }\n",
       "\n",
       "    .dataframe thead th {\n",
       "        text-align: right;\n",
       "    }\n",
       "</style>\n",
       "<table border=\"1\" class=\"dataframe\">\n",
       "  <thead>\n",
       "    <tr style=\"text-align: right;\">\n",
       "      <th></th>\n",
       "      <th>qid</th>\n",
       "      <th>question</th>\n",
       "    </tr>\n",
       "  </thead>\n",
       "  <tbody>\n",
       "    <tr>\n",
       "      <th>0</th>\n",
       "      <td>564959490dd0b8316a88</td>\n",
       "      <td>can you use Microsoft Office without internet?</td>\n",
       "    </tr>\n",
       "    <tr>\n",
       "      <th>1</th>\n",
       "      <td>274badccc0a85d6e98fb</td>\n",
       "      <td>Does the British royal family have an American...</td>\n",
       "    </tr>\n",
       "    <tr>\n",
       "      <th>2</th>\n",
       "      <td>e05f8b4928fad08e72b0</td>\n",
       "      <td>Was the Scottish Parliament founded by William...</td>\n",
       "    </tr>\n",
       "    <tr>\n",
       "      <th>3</th>\n",
       "      <td>92ef790656f39f9871cf</td>\n",
       "      <td>Was General Motors first acquisition named aft...</td>\n",
       "    </tr>\n",
       "    <tr>\n",
       "      <th>4</th>\n",
       "      <td>f6fcbb12ad3705ffce40</td>\n",
       "      <td>Would it be appropriate for a cosmetologist to...</td>\n",
       "    </tr>\n",
       "    <tr>\n",
       "      <th>...</th>\n",
       "      <td>...</td>\n",
       "      <td>...</td>\n",
       "    </tr>\n",
       "    <tr>\n",
       "      <th>485</th>\n",
       "      <td>2922eaa3d1040ec8d081</td>\n",
       "      <td>Would someone who likes kheer also like tamelo...</td>\n",
       "    </tr>\n",
       "    <tr>\n",
       "      <th>486</th>\n",
       "      <td>a79cbd247fe8f7544cfd</td>\n",
       "      <td>Is there a type of chord that shares its name ...</td>\n",
       "    </tr>\n",
       "    <tr>\n",
       "      <th>487</th>\n",
       "      <td>e4d603349b03561755c7</td>\n",
       "      <td>Did the king from Arturus Rex have his origins...</td>\n",
       "    </tr>\n",
       "    <tr>\n",
       "      <th>488</th>\n",
       "      <td>50818eabb2afc4965595</td>\n",
       "      <td>Are Taego order bhikkhu generally less sexuall...</td>\n",
       "    </tr>\n",
       "    <tr>\n",
       "      <th>489</th>\n",
       "      <td>b9ebd98e0c5ebb6733ba</td>\n",
       "      <td>Could a detailed lecture about the mating habi...</td>\n",
       "    </tr>\n",
       "  </tbody>\n",
       "</table>\n",
       "<p>490 rows × 2 columns</p>\n",
       "</div>"
      ],
      "text/plain": [
       "                      qid                                           question\n",
       "0    564959490dd0b8316a88     can you use Microsoft Office without internet?\n",
       "1    274badccc0a85d6e98fb  Does the British royal family have an American...\n",
       "2    e05f8b4928fad08e72b0  Was the Scottish Parliament founded by William...\n",
       "3    92ef790656f39f9871cf  Was General Motors first acquisition named aft...\n",
       "4    f6fcbb12ad3705ffce40  Would it be appropriate for a cosmetologist to...\n",
       "..                    ...                                                ...\n",
       "485  2922eaa3d1040ec8d081  Would someone who likes kheer also like tamelo...\n",
       "486  a79cbd247fe8f7544cfd  Is there a type of chord that shares its name ...\n",
       "487  e4d603349b03561755c7  Did the king from Arturus Rex have his origins...\n",
       "488  50818eabb2afc4965595  Are Taego order bhikkhu generally less sexuall...\n",
       "489  b9ebd98e0c5ebb6733ba  Could a detailed lecture about the mating habi...\n",
       "\n",
       "[490 rows x 2 columns]"
      ]
     },
     "execution_count": 53,
     "metadata": {},
     "output_type": "execute_result"
    }
   ],
   "source": [
    "df_test"
   ]
  },
  {
   "cell_type": "code",
   "execution_count": null,
   "id": "9c792b05",
   "metadata": {},
   "outputs": [],
   "source": []
  }
 ],
 "metadata": {
  "kernelspec": {
   "display_name": "hitl-expl-reg",
   "language": "python",
   "name": "hitl-expl-reg"
  },
  "language_info": {
   "codemirror_mode": {
    "name": "ipython",
    "version": 3
   },
   "file_extension": ".py",
   "mimetype": "text/x-python",
   "name": "python",
   "nbconvert_exporter": "python",
   "pygments_lexer": "ipython3",
   "version": "3.8.11"
  }
 },
 "nbformat": 4,
 "nbformat_minor": 5
}
